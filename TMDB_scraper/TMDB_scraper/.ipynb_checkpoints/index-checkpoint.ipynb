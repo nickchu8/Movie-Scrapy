{
 "cells": [
  {
   "cell_type": "raw",
   "id": "719cd75e-2cf4-4225-ba80-d30dfbad6cd1",
   "metadata": {},
   "source": [
    "---\n",
    "title: \"Web Scraping Movies with Scrapy\"\n",
    "image: everythingeverywhere.jpg\n",
    "author: \"Nicholas Chu\"\n",
    "categories: [Homework]\n",
    "---"
   ]
  },
  {
   "cell_type": "markdown",
   "id": "9760e2a5-64b8-4d67-a5de-add673f2642b",
   "metadata": {},
   "source": [
    "# Scrapy with Everything Everywhere All At Once\n",
    "---"
   ]
  },
  {
   "cell_type": "markdown",
   "id": "ba2cfafc-40ab-4bda-a64a-aa19485f9ee1",
   "metadata": {},
   "source": [
    ">**What movie or TV shows share actors with your favorite movie or show?**"
   ]
  },
  {
   "cell_type": "markdown",
   "id": "11b7f8ba-33bc-46d4-ac6e-f699955da5cf",
   "metadata": {},
   "source": [
    "We will be answering this question by building a \"recommender system\" that will look at the number of shared actors between 2 movies/shows.\n",
    "\n",
    "The blog will be formatted as follows:\n",
    "\n",
    "1. We'll build a web scraper with Scrapy to scrape [TMDB](https://www.themoviedb.org/).\n",
    "2. We will sort our scraped results and output an interesting visualization to help answer the question."
   ]
  },
  {
   "cell_type": "markdown",
   "id": "f038c273-ab16-4dbe-860b-254f7243bf50",
   "metadata": {},
   "source": [
    "## 1. Setup\n",
    "---"
   ]
  },
  {
   "cell_type": "markdown",
   "id": "7c19b8ad-00ad-4326-8a05-087e27b8670d",
   "metadata": {},
   "source": [
    "### a. Pick a Movie/Show"
   ]
  },
  {
   "cell_type": "markdown",
   "id": "f15a002c-1da1-4021-b256-864cf1e7375c",
   "metadata": {},
   "source": [
    "First, we will need a movie or show to work with and get its TMDB link. I'm going to choose *Everything Everywhere All At Once*, one of my favorite movies. Its TMDB page is \n",
    "\n",
    "https://www.themoviedb.org/movie/545611-everything-everywhere-all-at-once/\n",
    "\n",
    "One can easily replicate this project if they choose another movie, they would just have to switch out the appropriate links!"
   ]
  },
  {
   "cell_type": "markdown",
   "id": "9c672ce4-8dae-453f-859c-9342d7dfa07a",
   "metadata": {},
   "source": [
    "### b. Initialize Scrapy Project"
   ]
  },
  {
   "cell_type": "markdown",
   "id": "dfe27ee3-f6d6-44e7-9fa6-584c65b98d5e",
   "metadata": {},
   "source": [
    "Now, we can create our Scrapy project! We open our terminal and type in the location we want our project to be this:"
   ]
  },
  {
   "cell_type": "markdown",
   "id": "3392e475-8844-4aae-bd5b-73cc65ccabe0",
   "metadata": {},
   "source": [
    "```\n",
    "scrapy startproject TMDB_scraper\n",
    "cd TMDB_scraper\n",
    "```"
   ]
  },
  {
   "cell_type": "markdown",
   "id": "ff3b2985-c7bb-4c4d-922a-bc7c1b5331ee",
   "metadata": {},
   "source": [
    "### c. Tweak Settings"
   ]
  },
  {
   "cell_type": "markdown",
   "id": "a06c5a13-8e55-43db-a7dc-b698e6bdab75",
   "metadata": {},
   "source": [
    "We still need to change a setting in `settings.py` that will allow us to avoid `403` errors while scraping. `403` errors mean that the website detects that we are a bot, so to get around this, we just modify `User_Agent` to be `\"Mozilla/5.0 (Windows NT 10.0; Win64; x64) AppleWebKit/537.36 (KHTML, like Gecko) Chrome/58.0.3029.110 Safari/537.36\"`"
   ]
  },
  {
   "cell_type": "markdown",
   "id": "29986b7f-523f-4600-a68d-95341f96f80e",
   "metadata": {},
   "source": [
    "## 2. Scraping\n",
    "---"
   ]
  },
  {
   "cell_type": "markdown",
   "id": "1ca1f049-f411-4f60-bc8b-48e8402945fc",
   "metadata": {},
   "source": [
    "Now, we can finally create our spider `tmdb_spider.py` inside the `spiders` directory. We can add these lines:\n",
    "```python\n",
    "import scrapy\n",
    "\n",
    "class TmdbSpider(scrapy.Spider):\n",
    "    name = 'tmdb_spider'\n",
    "    \n",
    "    start_urls = ['https://www.themoviedb.org/movie/545611-everything-everywhere-all-at-once/']\n",
    "```"
   ]
  },
  {
   "cell_type": "markdown",
   "id": "3db34236-ada2-4a8b-b804-822db19a263d",
   "metadata": {},
   "source": [
    "Here, we import scrapy, and then define our spider with the nmae `tmdb_spider` and indicate our `start_urls` to be the page for *Everything Everywhere All At Once*.\n",
    "\n",
    "Now, we need to write 3 different parsing methods to help get the data we want from tmdb."
   ]
  },
  {
   "cell_type": "markdown",
   "id": "181bed5a-777b-46fc-98ee-0a23641a8177",
   "metadata": {},
   "source": [
    "### a. parse()\n",
    "____"
   ]
  },
  {
   "cell_type": "markdown",
   "id": "09ad5b20-7f63-4b93-a3a0-9576e10c0ad6",
   "metadata": {},
   "source": [
    "This method will navigate our spider from the main page for the movie to the *Full Cast & Crew* page."
   ]
  },
  {
   "cell_type": "markdown",
   "id": "bd55ff5c-8b34-4338-ac64-e94c8398a7b1",
   "metadata": {},
   "source": [
    "```python\n",
    "def parse(self, response):\n",
    "        '''\n",
    "        Start on a movie page, then navigate to the Full Cast & Crew page: which is just movie_url/cast.\n",
    "        '''\n",
    "        url = 'https://www.themoviedb.org/movie/545611-everything-everywhere-all-at-once/cast' #url for movie's cast page\n",
    "        yield scrapy.Request(url, callback = self.parse_full_credits) #go to cast page\n",
    "```"
   ]
  },
  {
   "cell_type": "markdown",
   "id": "c674a6da-c07e-4a31-8d8a-3b18f93876b8",
   "metadata": {},
   "source": [
    "Here, the url is just `<start_urls>/cast`, so if one would like to use a different movie, then they would have to switch this url as well. Here, we just use a scrapy request to request that page, and we use a callback method in `parse_full_credits(self, response)` which will be detailed below!"
   ]
  },
  {
   "cell_type": "markdown",
   "id": "7c0117b1-57dc-45eb-8006-3db33050acd9",
   "metadata": {},
   "source": [
    "### b. parse_full_credits()\n",
    "___"
   ]
  },
  {
   "cell_type": "markdown",
   "id": "1bb4735d-dbf2-44aa-9701-3026e04f94a2",
   "metadata": {},
   "source": [
    "This method will start from the *Full Cast & Crew* page and go through each actor in that page."
   ]
  },
  {
   "cell_type": "markdown",
   "id": "5030408c-eb93-445e-8f97-673e313f922f",
   "metadata": {},
   "source": [
    "```python\n",
    " def parse_full_credits(self, response):\n",
    "        '''\n",
    "        Start on full cast and crew page. yield scrapy.request for the page of each actor listed on the page, not including crew members.\n",
    "        '''\n",
    "\n",
    "        actors = response.css('ol.people.credits:not(.crew) a::attr(href)').getall() #list of actors using html tags and response\n",
    "        for actor in actors: #iterate through list of actors and go to each actor's page\n",
    "            yield response.follow(actor, callback = self.parse_actor_page)\n",
    "```"
   ]
  },
  {
   "cell_type": "markdown",
   "id": "d1f5a701-7a12-4d5a-a6bd-1fe3c200579a",
   "metadata": {},
   "source": [
    "In this code, `actors` is a list of all the links to the actors' portfolio pages. Note, we include `:not(.crew)` in order to only get the *actors* and not the crew members for the movie/show. So we iterate through the list of actors and yield a response to follow to those pages. Our callback method is  `parse_actor_page()`, which will be detailed below."
   ]
  },
  {
   "cell_type": "markdown",
   "id": "7d0dc379-191f-467d-8c93-9291237f0c3a",
   "metadata": {},
   "source": [
    "### c. parse_actor_page()\n",
    "---"
   ]
  },
  {
   "cell_type": "markdown",
   "id": "d564b23c-d4fe-4136-adba-3ad06b5425ae",
   "metadata": {},
   "source": [
    "This method will start from an actor's profile page and yield a dictionary containing all of the movies/TV shows the actor has worked on. So the output dictionary will be in the form of:\n",
    "`{\"actor\": actor_name, \"movie_or_TV_name\": movie_or_TV_name}`"
   ]
  },
  {
   "cell_type": "markdown",
   "id": "b16a72b5-327d-4791-8e7c-6ed4ca0f1d1c",
   "metadata": {},
   "source": [
    "```python\n",
    "def parse_actor_page(self, response):\n",
    "        '''\n",
    "        start on page of an actor. Yield a dictionary in the format of {\"actor\": actor_name, \"movie_or_TV_name\": movie_or_TV_name}\n",
    "        Yield one such dictionary for each of the movies or TV shows on which that actor worked. \n",
    "        '''\n",
    "        actor_name = response.css(\"h2 a::text\").get() #get actor name by getting the a tags \n",
    "        print(actor_name)\n",
    "        # iterate through all movies in actor's credit list and make a dictionary for each credit.\n",
    "        for movie_or_TV_name in response.css(\"div.credits_list bdi::text\").getall():\n",
    "            yield {\n",
    "                \"actor\": actor_name,\n",
    "                \"movie_or_TV_name\": movie_or_TV_name\n",
    "            }\n",
    "```"
   ]
  },
  {
   "cell_type": "markdown",
   "id": "f8244450-aaae-441c-ba60-2b6dd736c3c5",
   "metadata": {},
   "source": [
    "Here, we specify actor name and movie/show titles with `HTML` tags. \n",
    "\n",
    "We are now done with defining our spider!"
   ]
  },
  {
   "cell_type": "markdown",
   "id": "0147a636-7ce6-4010-afdc-277fe23f9be6",
   "metadata": {},
   "source": [
    "## 3. Recommendations\n",
    "---"
   ]
  },
  {
   "cell_type": "markdown",
   "id": "1f54878f-ef68-40d7-8a5c-092f8ad8c5b9",
   "metadata": {},
   "source": [
    "Let's finally get some results! Run this command:\n",
    "```\n",
    "scrapy crawl tmdb_spider -o results.csv\n",
    "```\n",
    "and we will end up with a csv file called `results.csv` that will contain all of our actors and what movies/TV shows they worked on. Let's use `pandas` to read the csv file into a dataframe"
   ]
  },
  {
   "cell_type": "code",
   "execution_count": 2,
   "id": "bc0a5149-1a53-4837-bcd8-51d41ea59828",
   "metadata": {},
   "outputs": [
    {
     "data": {
      "text/html": [
       "<div>\n",
       "<style scoped>\n",
       "    .dataframe tbody tr th:only-of-type {\n",
       "        vertical-align: middle;\n",
       "    }\n",
       "\n",
       "    .dataframe tbody tr th {\n",
       "        vertical-align: top;\n",
       "    }\n",
       "\n",
       "    .dataframe thead th {\n",
       "        text-align: right;\n",
       "    }\n",
       "</style>\n",
       "<table border=\"1\" class=\"dataframe\">\n",
       "  <thead>\n",
       "    <tr style=\"text-align: right;\">\n",
       "      <th></th>\n",
       "      <th>actor</th>\n",
       "      <th>movie_or_TV_name</th>\n",
       "    </tr>\n",
       "  </thead>\n",
       "  <tbody>\n",
       "    <tr>\n",
       "      <th>0</th>\n",
       "      <td>Michelle Yeoh</td>\n",
       "      <td>The Brothers Sun</td>\n",
       "    </tr>\n",
       "    <tr>\n",
       "      <th>1</th>\n",
       "      <td>Michelle Yeoh</td>\n",
       "      <td>ARK: The Animated Series</td>\n",
       "    </tr>\n",
       "    <tr>\n",
       "      <th>2</th>\n",
       "      <td>Michelle Yeoh</td>\n",
       "      <td>Rich People Problems</td>\n",
       "    </tr>\n",
       "    <tr>\n",
       "      <th>3</th>\n",
       "      <td>Michelle Yeoh</td>\n",
       "      <td>Star Trek: Section 31</td>\n",
       "    </tr>\n",
       "    <tr>\n",
       "      <th>4</th>\n",
       "      <td>Michelle Yeoh</td>\n",
       "      <td>The Legend of Nezha</td>\n",
       "    </tr>\n",
       "    <tr>\n",
       "      <th>...</th>\n",
       "      <td>...</td>\n",
       "      <td>...</td>\n",
       "    </tr>\n",
       "    <tr>\n",
       "      <th>1608</th>\n",
       "      <td>Stephanie Hsu</td>\n",
       "      <td>The Late Show with Stephen Colbert</td>\n",
       "    </tr>\n",
       "    <tr>\n",
       "      <th>1609</th>\n",
       "      <td>Stephanie Hsu</td>\n",
       "      <td>Unbreakable Kimmy Schmidt</td>\n",
       "    </tr>\n",
       "    <tr>\n",
       "      <th>1610</th>\n",
       "      <td>Stephanie Hsu</td>\n",
       "      <td>Girl Code</td>\n",
       "    </tr>\n",
       "    <tr>\n",
       "      <th>1611</th>\n",
       "      <td>Stephanie Hsu</td>\n",
       "      <td>The Oscars</td>\n",
       "    </tr>\n",
       "    <tr>\n",
       "      <th>1612</th>\n",
       "      <td>Stephanie Hsu</td>\n",
       "      <td>Asking For It</td>\n",
       "    </tr>\n",
       "  </tbody>\n",
       "</table>\n",
       "<p>1613 rows × 2 columns</p>\n",
       "</div>"
      ],
      "text/plain": [
       "              actor                    movie_or_TV_name\n",
       "0     Michelle Yeoh                    The Brothers Sun\n",
       "1     Michelle Yeoh            ARK: The Animated Series\n",
       "2     Michelle Yeoh                Rich People Problems\n",
       "3     Michelle Yeoh               Star Trek: Section 31\n",
       "4     Michelle Yeoh                 The Legend of Nezha\n",
       "...             ...                                 ...\n",
       "1608  Stephanie Hsu  The Late Show with Stephen Colbert\n",
       "1609  Stephanie Hsu           Unbreakable Kimmy Schmidt\n",
       "1610  Stephanie Hsu                           Girl Code\n",
       "1611  Stephanie Hsu                          The Oscars\n",
       "1612  Stephanie Hsu                       Asking For It\n",
       "\n",
       "[1613 rows x 2 columns]"
      ]
     },
     "execution_count": 2,
     "metadata": {},
     "output_type": "execute_result"
    }
   ],
   "source": [
    "import pandas as pd\n",
    "df = pd.read_csv(\"results.csv\")\n",
    "df"
   ]
  },
  {
   "cell_type": "markdown",
   "id": "2931120b-4a1b-4fd9-8173-4e0d592da7b7",
   "metadata": {},
   "source": [
    "Now that we have our data, we can finally answer the question we posed at the beginning! Let's find which movies/TV shows share the most actors with `Everything Everywhere All At Once`. To do this, let's just look at the most frequent movie/TV shows that come up in the dataframe! A great way to visualize this is with a `Plotly` pie chart!"
   ]
  },
  {
   "cell_type": "code",
   "execution_count": 6,
   "id": "81bcfaeb-234c-4de9-a813-abb14d71ccd7",
   "metadata": {},
   "outputs": [],
   "source": [
    "from plotly import express as px\n",
    "import numpy as np\n",
    "#import these packages to save the plotly to the blog post\n",
    "import plotly.io as pio\n",
    "pio.renderers.default=\"iframe\""
   ]
  },
  {
   "cell_type": "code",
   "execution_count": 5,
   "id": "6bf2ac9b-cc94-4bf5-8d72-fc0157d22f9a",
   "metadata": {},
   "outputs": [
    {
     "data": {
      "text/html": [
       "<iframe\n",
       "    scrolling=\"no\"\n",
       "    width=\"1020px\"\n",
       "    height=\"820\"\n",
       "    src=\"iframe_figures/figure_5.html\"\n",
       "    frameborder=\"0\"\n",
       "    allowfullscreen\n",
       "></iframe>\n"
      ]
     },
     "metadata": {},
     "output_type": "display_data"
    }
   ],
   "source": [
    "top30 = df[\"movie_or_TV_name\"].value_counts()[1:30].reset_index() #new df of name of each movie/show and # of shared actors from Everything Everywhere\n",
    "top30.columns = [\"movie_or_TV_name\", \"#_of_shared_actors\"] #rename columns\n",
    "\n",
    "fig = px.pie(top30, values = \"#_of_shared_actors\", names = \"movie_or_TV_name\", title = \"Top Recommendations based off of Everything Everywhere All At Once's cast\")\n",
    "fig.update_traces(textposition = \"inside\", text = top30[\"#_of_shared_actors\"]) #change attributes of pie chart\n",
    "fig.update_layout(height = 800, width = 1000) #height and width of chart\n",
    "fig.show()"
   ]
  },
  {
   "cell_type": "markdown",
   "id": "138db7a7-482b-43f0-8c0f-fecc4f17202f",
   "metadata": {},
   "source": [
    "Looks like we got what we wanted! Maybe Westworld would be a good show to watch then!"
   ]
  },
  {
   "cell_type": "code",
   "execution_count": null,
   "id": "90d3f534-e95d-4ed9-8aa2-f5d273804f12",
   "metadata": {},
   "outputs": [],
   "source": []
  }
 ],
 "metadata": {
  "kernelspec": {
   "display_name": "Python 3 (ipykernel)",
   "language": "python",
   "name": "python3"
  },
  "language_info": {
   "codemirror_mode": {
    "name": "ipython",
    "version": 3
   },
   "file_extension": ".py",
   "mimetype": "text/x-python",
   "name": "python",
   "nbconvert_exporter": "python",
   "pygments_lexer": "ipython3",
   "version": "3.9.12"
  }
 },
 "nbformat": 4,
 "nbformat_minor": 5
}
